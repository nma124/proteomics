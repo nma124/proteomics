{
 "cells": [
  {
   "attachments": {},
   "cell_type": "markdown",
   "id": "50163185-f804-4541-a033-55d7018b703a",
   "metadata": {},
   "source": [
    "# Approach 4\n",
    "\n",
    "\n",
    "## Code notes:\n",
    "\n",
    "- since we deal with pairs of one variable (organ-organ or strain-strain), while kkeeping the other constant, the following terms are applicable:\n",
    "    - `var_1`: represents the var pairs we want to consider\n",
    "    - `var_2`: represents the var kept over which the likelihood is computed\n",
    "\n",
    "        e.g, for organ-organ likelihood, `var_1` will be the organs and `var_2` will be the strains\n",
    "\n",
    "- `var_idx` repredents the index corresponding to what part of the column name contains the variable name, when split by '_'. e.g if the variable is organ, then the organ names are in index 0, because when you split a column name (split by '_') into its parts, the organ name is the first item. SImilarly, the strain name is the second item (index is 1)\n"
   ]
  },
  {
   "cell_type": "code",
   "execution_count": 31,
   "id": "bd4963c7-539b-4900-a928-5de639d7743f",
   "metadata": {},
   "outputs": [
    {
     "name": "stdout",
     "output_type": "stream",
     "text": [
      "The autoreload extension is already loaded. To reload it, use:\n",
      "  %reload_ext autoreload\n"
     ]
    }
   ],
   "source": [
    "import matplotlib.pyplot as plt\n",
    "from src import utils\n",
    "import pandas as pd\n",
    "import numpy as np\n",
    "\n",
    "%matplotlib inline\n",
    "plt.rcParams['font.size'] = 12\n",
    "\n",
    "%load_ext autoreload\n",
    "%autoreload 2"
   ]
  },
  {
   "attachments": {},
   "cell_type": "markdown",
   "id": "a02e14b2-de0a-44bb-b639-52aeaa330a9f",
   "metadata": {},
   "source": [
    "## Read Data"
   ]
  },
  {
   "cell_type": "code",
   "execution_count": 55,
   "id": "29aba98e-fea1-43f1-9cce-ed4907df4838",
   "metadata": {
    "tags": []
   },
   "outputs": [
    {
     "name": "stdout",
     "output_type": "stream",
     "text": [
      "True\n"
     ]
    }
   ],
   "source": [
    "data = pd.read_csv('../data/raw/pearson_organpair_4 strains_corrected.csv', index_col=0)\n",
    "# data.head()\n",
    "\n",
    "\n",
    "# data = pd.read_csv(r'C:\\Users\\Aroge\\Desktop\\junk\\pearson_2organpair_2strains_corrected.csv', index_col=0)\n",
    "data.head()\n",
    "\n",
    "data = utils.get_same_row_col_labels(data)\n",
    "cols = data.columns.values\n",
    "cols\n",
    "\n",
    "index = data.index.values\n",
    "index\n",
    "print(np.all(cols == index))\n",
    "\n"
   ]
  },
  {
   "attachments": {},
   "cell_type": "markdown",
   "id": "357d0a58-be66-47d6-9045-a4ac3e3ecc75",
   "metadata": {},
   "source": [
    "### Organ-Organ-lh"
   ]
  },
  {
   "cell_type": "code",
   "execution_count": 62,
   "id": "fa955409",
   "metadata": {},
   "outputs": [
    {
     "data": {
      "text/html": [
       "<div>\n",
       "<style scoped>\n",
       "    .dataframe tbody tr th:only-of-type {\n",
       "        vertical-align: middle;\n",
       "    }\n",
       "\n",
       "    .dataframe tbody tr th {\n",
       "        vertical-align: top;\n",
       "    }\n",
       "\n",
       "    .dataframe thead th {\n",
       "        text-align: right;\n",
       "    }\n",
       "</style>\n",
       "<table border=\"1\" class=\"dataframe\">\n",
       "  <thead>\n",
       "    <tr style=\"text-align: right;\">\n",
       "      <th></th>\n",
       "      <th>eye</th>\n",
       "      <th>kidney</th>\n",
       "      <th>liver</th>\n",
       "      <th>lung</th>\n",
       "      <th>muscle</th>\n",
       "      <th>pancreas</th>\n",
       "      <th>small.intestine</th>\n",
       "      <th>spleen</th>\n",
       "    </tr>\n",
       "  </thead>\n",
       "  <tbody>\n",
       "    <tr>\n",
       "      <th>eye</th>\n",
       "      <td>3.121798</td>\n",
       "      <td>10.409211</td>\n",
       "      <td>23.191776</td>\n",
       "      <td>9.149386</td>\n",
       "      <td>7.497321</td>\n",
       "      <td>21.29413</td>\n",
       "      <td>8.720758</td>\n",
       "      <td>7.919263</td>\n",
       "    </tr>\n",
       "    <tr>\n",
       "      <th>kidney</th>\n",
       "      <td>NaN</td>\n",
       "      <td>2.852896</td>\n",
       "      <td>3.333876</td>\n",
       "      <td>2.404913</td>\n",
       "      <td>9.961102</td>\n",
       "      <td>2.680285</td>\n",
       "      <td>3.94959</td>\n",
       "      <td>2.888752</td>\n",
       "    </tr>\n",
       "    <tr>\n",
       "      <th>liver</th>\n",
       "      <td>NaN</td>\n",
       "      <td>NaN</td>\n",
       "      <td>6.100181</td>\n",
       "      <td>3.447076</td>\n",
       "      <td>95.981707</td>\n",
       "      <td>3.686459</td>\n",
       "      <td>7.98004</td>\n",
       "      <td>4.744911</td>\n",
       "    </tr>\n",
       "    <tr>\n",
       "      <th>lung</th>\n",
       "      <td>NaN</td>\n",
       "      <td>NaN</td>\n",
       "      <td>NaN</td>\n",
       "      <td>2.055504</td>\n",
       "      <td>6.271727</td>\n",
       "      <td>5.07831</td>\n",
       "      <td>1.823408</td>\n",
       "      <td>1.161422</td>\n",
       "    </tr>\n",
       "    <tr>\n",
       "      <th>muscle</th>\n",
       "      <td>NaN</td>\n",
       "      <td>NaN</td>\n",
       "      <td>NaN</td>\n",
       "      <td>NaN</td>\n",
       "      <td>1.055759</td>\n",
       "      <td>13.898901</td>\n",
       "      <td>4.381725</td>\n",
       "      <td>12.506341</td>\n",
       "    </tr>\n",
       "    <tr>\n",
       "      <th>pancreas</th>\n",
       "      <td>NaN</td>\n",
       "      <td>NaN</td>\n",
       "      <td>NaN</td>\n",
       "      <td>NaN</td>\n",
       "      <td>NaN</td>\n",
       "      <td>5.631879</td>\n",
       "      <td>4.513222</td>\n",
       "      <td>5.518157</td>\n",
       "    </tr>\n",
       "    <tr>\n",
       "      <th>small.intestine</th>\n",
       "      <td>NaN</td>\n",
       "      <td>NaN</td>\n",
       "      <td>NaN</td>\n",
       "      <td>NaN</td>\n",
       "      <td>NaN</td>\n",
       "      <td>NaN</td>\n",
       "      <td>1.448935</td>\n",
       "      <td>3.693332</td>\n",
       "    </tr>\n",
       "    <tr>\n",
       "      <th>spleen</th>\n",
       "      <td>NaN</td>\n",
       "      <td>NaN</td>\n",
       "      <td>NaN</td>\n",
       "      <td>NaN</td>\n",
       "      <td>NaN</td>\n",
       "      <td>NaN</td>\n",
       "      <td>NaN</td>\n",
       "      <td>1.725389</td>\n",
       "    </tr>\n",
       "  </tbody>\n",
       "</table>\n",
       "</div>"
      ],
      "text/plain": [
       "                      eye     kidney      liver      lung     muscle  \\\n",
       "eye              3.121798  10.409211  23.191776  9.149386   7.497321   \n",
       "kidney                NaN   2.852896   3.333876  2.404913   9.961102   \n",
       "liver                 NaN        NaN   6.100181  3.447076  95.981707   \n",
       "lung                  NaN        NaN        NaN  2.055504   6.271727   \n",
       "muscle                NaN        NaN        NaN       NaN   1.055759   \n",
       "pancreas              NaN        NaN        NaN       NaN        NaN   \n",
       "small.intestine       NaN        NaN        NaN       NaN        NaN   \n",
       "spleen                NaN        NaN        NaN       NaN        NaN   \n",
       "\n",
       "                  pancreas small.intestine     spleen  \n",
       "eye               21.29413        8.720758   7.919263  \n",
       "kidney            2.680285         3.94959   2.888752  \n",
       "liver             3.686459         7.98004   4.744911  \n",
       "lung               5.07831        1.823408   1.161422  \n",
       "muscle           13.898901        4.381725  12.506341  \n",
       "pancreas          5.631879        4.513222   5.518157  \n",
       "small.intestine        NaN        1.448935   3.693332  \n",
       "spleen                 NaN             NaN   1.725389  "
      ]
     },
     "execution_count": 62,
     "metadata": {},
     "output_type": "execute_result"
    }
   ],
   "source": [
    "org_org_df = utils.get_organ_var_likelihood(0, 1, data, geom_normalize=True, use_common_var_2=True, debug=False)\n",
    "org_org_df"
   ]
  },
  {
   "attachments": {},
   "cell_type": "markdown",
   "id": "119bb83b-213b-4dc0-b4d9-4d6990894faf",
   "metadata": {},
   "source": [
    "### Strain-Strain-lh"
   ]
  },
  {
   "cell_type": "code",
   "execution_count": 7,
   "id": "c824e9ce-b64b-4e9c-9d9e-a5083d09d5d6",
   "metadata": {},
   "outputs": [
    {
     "name": "stdout",
     "output_type": "stream",
     "text": [
      "mu for ('AJ', 'BL') and ('bone', 'bone') = 0.9082195356666666 and std = 0.15896842736759656\n",
      "mu for ('AJ', 'BL') and ('bone', 'brain') = 0.16141347974999998 and std = 0.020104080473092537\n",
      "mu for ('BL', 'BL') and ('bone', 'brain') = 0.66211574825 and std = 0.030285584329499\n",
      "mu for ('BL', 'BL') and ('bone', 'bone') = 0.9475546393333333 and std = 0.09083802929594105\n"
     ]
    },
    {
     "data": {
      "text/html": [
       "<div>\n",
       "<style scoped>\n",
       "    .dataframe tbody tr th:only-of-type {\n",
       "        vertical-align: middle;\n",
       "    }\n",
       "\n",
       "    .dataframe tbody tr th {\n",
       "        vertical-align: top;\n",
       "    }\n",
       "\n",
       "    .dataframe thead th {\n",
       "        text-align: right;\n",
       "    }\n",
       "</style>\n",
       "<table border=\"1\" class=\"dataframe\">\n",
       "  <thead>\n",
       "    <tr style=\"text-align: right;\">\n",
       "      <th></th>\n",
       "      <th>AJ</th>\n",
       "      <th>BL</th>\n",
       "    </tr>\n",
       "  </thead>\n",
       "  <tbody>\n",
       "    <tr>\n",
       "      <th>AJ</th>\n",
       "      <td>6.020103</td>\n",
       "      <td>1.333347</td>\n",
       "    </tr>\n",
       "    <tr>\n",
       "      <th>BL</th>\n",
       "      <td>0.936176</td>\n",
       "      <td>5.492355</td>\n",
       "    </tr>\n",
       "  </tbody>\n",
       "</table>\n",
       "</div>"
      ],
      "text/plain": [
       "          AJ        BL\n",
       "AJ  6.020103  1.333347\n",
       "BL  0.936176  5.492355"
      ]
     },
     "execution_count": 7,
     "metadata": {},
     "output_type": "execute_result"
    }
   ],
   "source": [
    "str_str_df = utils.get_strain_var_likelihood(1, 0, data, geom_normalize=True, use_common_var_2=True)\n",
    "str_str_df"
   ]
  },
  {
   "attachments": {},
   "cell_type": "markdown",
   "id": "ca2939e8-0f0e-4b89-ad20-968fe5d15ecd",
   "metadata": {},
   "source": [
    "### Likelihood"
   ]
  },
  {
   "cell_type": "code",
   "execution_count": 8,
   "id": "4b67a7e6-6b24-497b-8662-896c90a67df0",
   "metadata": {
    "tags": []
   },
   "outputs": [],
   "source": [
    "org_org_df = get_organ_var_likelihood(0, 1, data, geom_normalize=True, use_common_var_2=False)\n",
    "with pd.ExcelWriter('../../result/organpair_4 strains_corrected/combined-likelihood/1-org-org-lh-app4.xlsx') as excel_path:\n",
    "    org_org_df.to_excel(excel_path)"
   ]
  },
  {
   "cell_type": "code",
   "execution_count": 9,
   "id": "a03c5032-4842-47b4-adb0-8013dd00649d",
   "metadata": {},
   "outputs": [],
   "source": [
    "strain_strain_df = get_strain_var_likelihood(1, 0, data, geom_normalize=True, use_common_var_2=True)\n",
    "with pd.ExcelWriter('../../result/organpair_4 strains_corrected/combined-likelihood/2-strain-strain-lh-app4.xlsx') as excel_path:\n",
    "    strain_strain_df.to_excel(excel_path)"
   ]
  },
  {
   "attachments": {},
   "cell_type": "markdown",
   "id": "bcce01b8-6776-40f3-b9e0-63837b44cdf8",
   "metadata": {},
   "source": [
    "### Ranking"
   ]
  },
  {
   "cell_type": "code",
   "execution_count": 10,
   "id": "1ce61e72-765c-4da6-b150-a2a4607c653b",
   "metadata": {},
   "outputs": [],
   "source": [
    "raw_df_path = '../../result/organpair_4 strains_corrected/combined-likelihood/1-org-org-lh-app4.xlsx'\n",
    "save_path = '../../result/organpair_4 strains_corrected/combined-likelihood/1-org-org-lh-rank-app4.xlsx'\n",
    "get_ranking(raw_df_path, save_path)"
   ]
  },
  {
   "cell_type": "code",
   "execution_count": 11,
   "id": "9cd283c9-3046-4757-890e-f1e3f90c2f85",
   "metadata": {},
   "outputs": [],
   "source": [
    "raw_df_path = '../../result/organpair_4 strains_corrected/combined-likelihood/2-strain-strain-lh-app4.xlsx'\n",
    "save_path = '../../result/organpair_4 strains_corrected/combined-likelihood/2-strain-strain-lh-rank-app4.xlsx'\n",
    "get_ranking(raw_df_path, save_path)"
   ]
  },
  {
   "attachments": {},
   "cell_type": "markdown",
   "id": "316e73fe-3bdb-4b80-a2d8-eafee99e59e1",
   "metadata": {},
   "source": [
    "## Debugging"
   ]
  },
  {
   "attachments": {},
   "cell_type": "markdown",
   "id": "1b391047-a3ca-42b2-bb32-48435060e3cb",
   "metadata": {},
   "source": [
    "### Organ pair"
   ]
  },
  {
   "cell_type": "code",
   "execution_count": 12,
   "id": "db74ef58-60a0-4b8d-96d7-d39f186c2cf7",
   "metadata": {},
   "outputs": [
    {
     "data": {
      "text/html": [
       "<div>\n",
       "<style scoped>\n",
       "    .dataframe tbody tr th:only-of-type {\n",
       "        vertical-align: middle;\n",
       "    }\n",
       "\n",
       "    .dataframe tbody tr th {\n",
       "        vertical-align: top;\n",
       "    }\n",
       "\n",
       "    .dataframe thead th {\n",
       "        text-align: right;\n",
       "    }\n",
       "</style>\n",
       "<table border=\"1\" class=\"dataframe\">\n",
       "  <thead>\n",
       "    <tr style=\"text-align: right;\">\n",
       "      <th></th>\n",
       "      <th>bone_AJ_r1</th>\n",
       "      <th>bone_AJ_r2</th>\n",
       "    </tr>\n",
       "  </thead>\n",
       "  <tbody>\n",
       "    <tr>\n",
       "      <th>bone_AJ_r1</th>\n",
       "      <td>1.000000</td>\n",
       "      <td>0.724659</td>\n",
       "    </tr>\n",
       "    <tr>\n",
       "      <th>bone_AJ_r2</th>\n",
       "      <td>0.724659</td>\n",
       "      <td>1.000000</td>\n",
       "    </tr>\n",
       "  </tbody>\n",
       "</table>\n",
       "</div>"
      ],
      "text/plain": [
       "            bone_AJ_r1  bone_AJ_r2\n",
       "bone_AJ_r1    1.000000    0.724659\n",
       "bone_AJ_r2    0.724659    1.000000"
      ]
     },
     "execution_count": 12,
     "metadata": {},
     "output_type": "execute_result"
    }
   ],
   "source": [
    "a = get_var_pair_df(('bone', 'bone'), data=data)\n",
    "a\n",
    "b = get_var_pair_df(('AJ', 'AJ'), data=a)\n",
    "b"
   ]
  },
  {
   "cell_type": "code",
   "execution_count": 13,
   "id": "89cb0f6f-0e8d-4787-95ad-90bc7727b5f6",
   "metadata": {},
   "outputs": [
    {
     "data": {
      "text/html": [
       "<div>\n",
       "<style scoped>\n",
       "    .dataframe tbody tr th:only-of-type {\n",
       "        vertical-align: middle;\n",
       "    }\n",
       "\n",
       "    .dataframe tbody tr th {\n",
       "        vertical-align: top;\n",
       "    }\n",
       "\n",
       "    .dataframe thead th {\n",
       "        text-align: right;\n",
       "    }\n",
       "</style>\n",
       "<table border=\"1\" class=\"dataframe\">\n",
       "  <thead>\n",
       "    <tr style=\"text-align: right;\">\n",
       "      <th></th>\n",
       "      <th>bone_BL_r6</th>\n",
       "      <th>bone_BL_r7</th>\n",
       "    </tr>\n",
       "  </thead>\n",
       "  <tbody>\n",
       "    <tr>\n",
       "      <th>bone_BL_r6</th>\n",
       "      <td>1.000000</td>\n",
       "      <td>0.842664</td>\n",
       "    </tr>\n",
       "    <tr>\n",
       "      <th>bone_BL_r7</th>\n",
       "      <td>0.842664</td>\n",
       "      <td>1.000000</td>\n",
       "    </tr>\n",
       "  </tbody>\n",
       "</table>\n",
       "</div>"
      ],
      "text/plain": [
       "            bone_BL_r6  bone_BL_r7\n",
       "bone_BL_r6    1.000000    0.842664\n",
       "bone_BL_r7    0.842664    1.000000"
      ]
     },
     "execution_count": 13,
     "metadata": {},
     "output_type": "execute_result"
    }
   ],
   "source": [
    "a = get_var_pair_df(('bone', 'bone'), data=data)\n",
    "a\n",
    "b = get_var_pair_df(('BL', 'BL'), data=a)\n",
    "b"
   ]
  },
  {
   "attachments": {},
   "cell_type": "markdown",
   "id": "d66bc188-9f4f-4070-ae83-1aefe1162259",
   "metadata": {},
   "source": [
    "### strain pair"
   ]
  },
  {
   "cell_type": "code",
   "execution_count": 14,
   "id": "c973c5c6-3676-4b56-8df8-964a3c8ff172",
   "metadata": {},
   "outputs": [
    {
     "data": {
      "text/html": [
       "<div>\n",
       "<style scoped>\n",
       "    .dataframe tbody tr th:only-of-type {\n",
       "        vertical-align: middle;\n",
       "    }\n",
       "\n",
       "    .dataframe tbody tr th {\n",
       "        vertical-align: top;\n",
       "    }\n",
       "\n",
       "    .dataframe thead th {\n",
       "        text-align: right;\n",
       "    }\n",
       "</style>\n",
       "<table border=\"1\" class=\"dataframe\">\n",
       "  <thead>\n",
       "    <tr style=\"text-align: right;\">\n",
       "      <th></th>\n",
       "      <th>brain_AJ_r1</th>\n",
       "      <th>brain_AJ_r2</th>\n",
       "    </tr>\n",
       "  </thead>\n",
       "  <tbody>\n",
       "    <tr>\n",
       "      <th>bone_AJ_r1</th>\n",
       "      <td>0.185343</td>\n",
       "      <td>0.153868</td>\n",
       "    </tr>\n",
       "    <tr>\n",
       "      <th>bone_AJ_r2</th>\n",
       "      <td>0.138242</td>\n",
       "      <td>0.168200</td>\n",
       "    </tr>\n",
       "  </tbody>\n",
       "</table>\n",
       "</div>"
      ],
      "text/plain": [
       "            brain_AJ_r1  brain_AJ_r2\n",
       "bone_AJ_r1     0.185343     0.153868\n",
       "bone_AJ_r2     0.138242     0.168200"
      ]
     },
     "execution_count": 14,
     "metadata": {},
     "output_type": "execute_result"
    }
   ],
   "source": [
    "a = get_var_pair_df(('AJ', 'AJ'), data=data)\n",
    "a\n",
    "b = get_var_pair_df(('bone', 'brain'), data=a)\n",
    "b"
   ]
  },
  {
   "cell_type": "code",
   "execution_count": 15,
   "id": "e3635827-57ea-4ac5-adcd-6f5dc9fd914f",
   "metadata": {},
   "outputs": [
    {
     "data": {
      "text/html": [
       "<div>\n",
       "<style scoped>\n",
       "    .dataframe tbody tr th:only-of-type {\n",
       "        vertical-align: middle;\n",
       "    }\n",
       "\n",
       "    .dataframe tbody tr th {\n",
       "        vertical-align: top;\n",
       "    }\n",
       "\n",
       "    .dataframe thead th {\n",
       "        text-align: right;\n",
       "    }\n",
       "</style>\n",
       "<table border=\"1\" class=\"dataframe\">\n",
       "  <thead>\n",
       "    <tr style=\"text-align: right;\">\n",
       "      <th></th>\n",
       "      <th>brain_BL_r1</th>\n",
       "      <th>brain_BL_r2</th>\n",
       "      <th>brain_BL_r3</th>\n",
       "      <th>brain_BL_r4</th>\n",
       "      <th>brain_BL_r5</th>\n",
       "      <th>brain_BL_r6</th>\n",
       "      <th>brain_BL_r7</th>\n",
       "      <th>brain_BL_r8</th>\n",
       "      <th>brain_BL_r9</th>\n",
       "    </tr>\n",
       "  </thead>\n",
       "  <tbody>\n",
       "    <tr>\n",
       "      <th>bone_BL_r6</th>\n",
       "      <td>0.634599</td>\n",
       "      <td>0.702376</td>\n",
       "      <td>0.648401</td>\n",
       "      <td>0.633350</td>\n",
       "      <td>0.659042</td>\n",
       "      <td>0.651780</td>\n",
       "      <td>0.646761</td>\n",
       "      <td>0.719912</td>\n",
       "      <td>0.720934</td>\n",
       "    </tr>\n",
       "    <tr>\n",
       "      <th>bone_BL_r7</th>\n",
       "      <td>0.667836</td>\n",
       "      <td>0.643652</td>\n",
       "      <td>0.721478</td>\n",
       "      <td>0.704047</td>\n",
       "      <td>0.611087</td>\n",
       "      <td>0.649846</td>\n",
       "      <td>0.703551</td>\n",
       "      <td>0.706947</td>\n",
       "      <td>0.772451</td>\n",
       "    </tr>\n",
       "  </tbody>\n",
       "</table>\n",
       "</div>"
      ],
      "text/plain": [
       "            brain_BL_r1  brain_BL_r2  brain_BL_r3  brain_BL_r4  brain_BL_r5  \\\n",
       "bone_BL_r6     0.634599     0.702376     0.648401     0.633350     0.659042   \n",
       "bone_BL_r7     0.667836     0.643652     0.721478     0.704047     0.611087   \n",
       "\n",
       "            brain_BL_r6  brain_BL_r7  brain_BL_r8  brain_BL_r9  \n",
       "bone_BL_r6     0.651780     0.646761     0.719912     0.720934  \n",
       "bone_BL_r7     0.649846     0.703551     0.706947     0.772451  "
      ]
     },
     "execution_count": 15,
     "metadata": {},
     "output_type": "execute_result"
    }
   ],
   "source": [
    "a = get_var_pair_df(('BL', 'BL'), data=data)\n",
    "a\n",
    "b = get_var_pair_df(('bone', 'brain'), data=a)\n",
    "b"
   ]
  },
  {
   "cell_type": "code",
   "execution_count": null,
   "id": "b9e30376-5075-44d6-ad10-048fe4aa605a",
   "metadata": {},
   "outputs": [],
   "source": []
  }
 ],
 "metadata": {
  "kernelspec": {
   "display_name": "genomic",
   "language": "python",
   "name": "python3"
  },
  "language_info": {
   "codemirror_mode": {
    "name": "ipython",
    "version": 3
   },
   "file_extension": ".py",
   "mimetype": "text/x-python",
   "name": "python",
   "nbconvert_exporter": "python",
   "pygments_lexer": "ipython3",
   "version": "3.7.10"
  }
 },
 "nbformat": 4,
 "nbformat_minor": 5
}
